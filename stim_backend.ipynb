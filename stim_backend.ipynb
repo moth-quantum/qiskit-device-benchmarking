{
 "cells": [
  {
   "cell_type": "code",
   "execution_count": 1,
   "id": "0d6faa8d",
   "metadata": {},
   "outputs": [],
   "source": [
    "from stim_backend import NoisyStimBackend"
   ]
  },
  {
   "cell_type": "markdown",
   "id": "769dfa1a",
   "metadata": {},
   "source": [
    "Here's a new backend. Note that this has three error probabilities, for single-qubit, two-qubit and measurement gates. Errors are depolarizing for the former two, and bit flip for the latter."
   ]
  },
  {
   "cell_type": "code",
   "execution_count": 60,
   "id": "0664c95b",
   "metadata": {},
   "outputs": [],
   "source": [
    "p = 1e-2\n",
    "n = 8\n",
    "backend = NoisyStimBackend(\n",
    "    num_qubits=n,\n",
    "    basis_gates = [\"id\", \"h\", \"x\", \"y\", \"z\", \"s\", \"cx\"],\n",
    "    p1=0,\n",
    "    p2=0,\n",
    "    pm=p\n",
    ")"
   ]
  },
  {
   "cell_type": "markdown",
   "id": "9f091fd2",
   "metadata": {},
   "source": [
    "Let's try it out on the following circuit."
   ]
  },
  {
   "cell_type": "code",
   "execution_count": 61,
   "id": "a94ddf4d",
   "metadata": {},
   "outputs": [],
   "source": [
    "from qiskit import QuantumCircuit\n",
    "\n",
    "qc = QuantumCircuit(2)\n",
    "qc.x(0)\n",
    "qc.cx(0,1)\n",
    "qc.measure_all()"
   ]
  },
  {
   "cell_type": "markdown",
   "id": "96eafac2",
   "metadata": {},
   "source": [
    "This should yield `11` with certainty. So the probability that it doesn't is the probabilty of error. What do we expect for this?\n",
    "\n",
    "* p1=p, p2=0, pm=0: p/2 (since only half of single-qubit Paulis are bit flips) = 0.005 (for p=1%)\n",
    "* p1=0, p2=p, pm=0: 3p/4 (since 3/4s of two-qubit Paulis are bit flips) = 0.075 (for p=1%)\n",
    "* p1=0, p2=0, pm=p: 2*p (since there are two ways it can happen) = 0.02 (for p=1%)"
   ]
  },
  {
   "cell_type": "code",
   "execution_count": 62,
   "id": "4f29ffed",
   "metadata": {},
   "outputs": [
    {
     "name": "stdout",
     "output_type": "stream",
     "text": [
      "Total error\n",
      "0.0201\n"
     ]
    }
   ],
   "source": [
    "shots = 1e5\n",
    "probs = {string:count/shots for string, count in backend.run(qc,shots=shots).result().get_counts().items()}\n",
    "print('Total error')\n",
    "print(round(1-probs['11'],4))"
   ]
  },
  {
   "cell_type": "markdown",
   "id": "f2b2cb29",
   "metadata": {},
   "source": [
    "Try it out. It seems to work!"
   ]
  },
  {
   "cell_type": "markdown",
   "id": "cba1c373",
   "metadata": {},
   "source": [
    "Now let's see how we do with more qubits."
   ]
  },
  {
   "cell_type": "code",
   "execution_count": 63,
   "id": "8acc222d",
   "metadata": {},
   "outputs": [],
   "source": [
    "n = 127\n",
    "backend = NoisyStimBackend(\n",
    "    num_qubits=n,\n",
    "    basis_gates = [\"id\", \"h\", \"x\", \"y\", \"z\", \"s\", \"cx\"],\n",
    "    p1=p,\n",
    "    p2=p,\n",
    "    pm=p\n",
    ")\n",
    "\n",
    "qc = QuantumCircuit(n)\n",
    "qc.h(range(n))\n",
    "qc.measure_all()\n",
    "\n",
    "probs = {string:count/shots for string, count in backend.run(qc,shots=shots).result().get_counts().items()}"
   ]
  },
  {
   "cell_type": "markdown",
   "id": "b85c822b",
   "metadata": {},
   "source": [
    "This only takes a few seconds!"
   ]
  },
  {
   "cell_type": "markdown",
   "id": "96c76e9a",
   "metadata": {},
   "source": [
    "Unfortunately it doesn't seem to work with MirrorRB. Maybe because this backend is made to use `backend.run()` whereas Qiskit uses the sampler."
   ]
  }
 ],
 "metadata": {
  "kernelspec": {
   "display_name": ".venv",
   "language": "python",
   "name": "python3"
  },
  "language_info": {
   "codemirror_mode": {
    "name": "ipython",
    "version": 3
   },
   "file_extension": ".py",
   "mimetype": "text/x-python",
   "name": "python",
   "nbconvert_exporter": "python",
   "pygments_lexer": "ipython3",
   "version": "3.12.7"
  }
 },
 "nbformat": 4,
 "nbformat_minor": 5
}
