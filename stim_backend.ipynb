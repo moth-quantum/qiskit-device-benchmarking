{
 "cells": [
  {
   "cell_type": "code",
   "execution_count": 1,
   "id": "0d6faa8d",
   "metadata": {},
   "outputs": [],
   "source": [
    "from stim_backend import NoisyStimBackend"
   ]
  },
  {
   "cell_type": "markdown",
   "id": "769dfa1a",
   "metadata": {},
   "source": [
    "Here's a new backend. Note that this has three error probabilities, for single-qubit, two-qubit and measurement gates. Errors are depolarizing for the former two, and bit flip for the latter."
   ]
  },
  {
   "cell_type": "code",
   "execution_count": 2,
   "id": "0664c95b",
   "metadata": {},
   "outputs": [],
   "source": [
    "p = 1e-2\n",
    "n = 8\n",
    "backend = NoisyStimBackend(\n",
    "    num_qubits=n,\n",
    "    basis_gates = [\"id\", \"h\", \"x\", \"y\", \"z\", \"s\", \"cx\"],\n",
    "    p1=0,\n",
    "    p2=0,\n",
    "    pm=p\n",
    ")"
   ]
  },
  {
   "cell_type": "markdown",
   "id": "9f091fd2",
   "metadata": {},
   "source": [
    "Let's try it out on the following circuit."
   ]
  },
  {
   "cell_type": "code",
   "execution_count": 3,
   "id": "a94ddf4d",
   "metadata": {},
   "outputs": [],
   "source": [
    "from qiskit import QuantumCircuit\n",
    "\n",
    "qc = QuantumCircuit(2)\n",
    "qc.x(0)\n",
    "qc.cx(0,1)\n",
    "qc.measure_all()"
   ]
  },
  {
   "cell_type": "markdown",
   "id": "96eafac2",
   "metadata": {},
   "source": [
    "This should yield `11` with certainty. So the probability that it doesn't is the probabilty of error. What do we expect for this?\n",
    "\n",
    "* p1=p, p2=0, pm=0: p/2 (since only half of single-qubit Paulis are bit flips) = 0.005 (for p=1%)\n",
    "* p1=0, p2=p, pm=0: 3p/4 (since 3/4s of two-qubit Paulis are bit flips) = 0.075 (for p=1%)\n",
    "* p1=0, p2=0, pm=p: 2*p (since there are two ways it can happen) = 0.02 (for p=1%)"
   ]
  },
  {
   "cell_type": "code",
   "execution_count": 4,
   "id": "4f29ffed",
   "metadata": {},
   "outputs": [
    {
     "name": "stdout",
     "output_type": "stream",
     "text": [
      "Total error\n",
      "0.0201\n"
     ]
    }
   ],
   "source": [
    "shots = 1e5\n",
    "probs = {string:count/shots for string, count in backend.run(qc,shots=shots).result().get_counts().items()}\n",
    "print('Total error')\n",
    "print(round(1-probs['11'],4))"
   ]
  },
  {
   "cell_type": "markdown",
   "id": "f2b2cb29",
   "metadata": {},
   "source": [
    "Try it out. It seems to work!"
   ]
  },
  {
   "cell_type": "markdown",
   "id": "cba1c373",
   "metadata": {},
   "source": [
    "Now let's see how we do with more qubits."
   ]
  },
  {
   "cell_type": "code",
   "execution_count": 5,
   "id": "8acc222d",
   "metadata": {},
   "outputs": [],
   "source": [
    "n = 127\n",
    "backend = NoisyStimBackend(\n",
    "    num_qubits=n,\n",
    "    basis_gates = [\"id\", \"h\", \"x\", \"y\", \"z\", \"s\", \"cx\"],\n",
    "    p1=p,\n",
    "    p2=p,\n",
    "    pm=p\n",
    ")\n",
    "\n",
    "qc = QuantumCircuit(n)\n",
    "qc.h(range(n))\n",
    "qc.measure_all()\n",
    "\n",
    "probs = {string:count/shots for string, count in backend.run(qc,shots=shots).result().get_counts().items()}"
   ]
  },
  {
   "cell_type": "markdown",
   "id": "b85c822b",
   "metadata": {},
   "source": [
    "This only takes a few seconds!"
   ]
  },
  {
   "cell_type": "markdown",
   "id": "96c76e9a",
   "metadata": {},
   "source": [
    "Unfortunately it doesn't seem to work with MirrorRB. Maybe because this backend is made to use `backend.run()` whereas Qiskit uses the sampler."
   ]
  },
  {
   "cell_type": "code",
   "execution_count": null,
   "id": "d3756689",
   "metadata": {},
   "outputs": [
    {
     "name": "stderr",
     "output_type": "stream",
     "text": [
      "Job data not added for errored job [Job ID: 7cd7750e-1c7f-451b-b6a6-0a0f4786a796]\n",
      "Error message: \n"
     ]
    },
    {
     "data": {
      "text/plain": [
       "ExperimentData(MirrorRB, aa8abc92-c1cd-472a-8d9b-4bf982346153, job_ids=['7cd7750e-1c7f-451b-b6a6-0a0f4786a796'], metadata=<4 items>)"
      ]
     },
     "execution_count": 6,
     "metadata": {},
     "output_type": "execute_result"
    },
    {
     "name": "stderr",
     "output_type": "stream",
     "text": [
      "Provider for ExperimentData object doesn't exist, resulting in a failed attempt to retrieve data from the server; no stored result data exists\n",
      "/Users/woottonjames/My Drive/Repos/qiskit-device-benchmarking/.venv/lib/python3.12/site-packages/qiskit_experiments/framework/base_analysis.py:173: UserWarning: ExperimentData object data is empty.\n",
      "\n",
      "  warnings.warn(\"ExperimentData object data is empty.\\n\")\n",
      "Provider for ExperimentData object doesn't exist, resulting in a failed attempt to retrieve data from the server; no stored result data exists\n",
      "Provider for ExperimentData object doesn't exist, resulting in a failed attempt to retrieve data from the server; no stored result data exists\n",
      "Provider for ExperimentData object doesn't exist, resulting in a failed attempt to retrieve data from the server; no stored result data exists\n",
      "Provider for ExperimentData object doesn't exist, resulting in a failed attempt to retrieve data from the server; no stored result data exists\n",
      "Analysis callback failed [Experiment ID: aa8abc92-c1cd-472a-8d9b-4bf982346153][Analysis Callback ID: b20c41f3ae8f4f94865c44d877844e9a]:\n",
      "Traceback (most recent call last):\n",
      "  File \"/Users/woottonjames/My Drive/Repos/qiskit-device-benchmarking/.venv/lib/python3.12/site-packages/qiskit_experiments/framework/experiment_data.py\", line 1025, in _run_analysis_callback\n",
      "    callback(self, **kwargs)\n",
      "  File \"/Users/woottonjames/My Drive/Repos/qiskit-device-benchmarking/.venv/lib/python3.12/site-packages/qiskit_experiments/framework/base_analysis.py\", line 176, in run_analysis\n",
      "    results, figures = analysis._run_analysis(expdata)\n",
      "                       ^^^^^^^^^^^^^^^^^^^^^^^^^^^^^^^\n",
      "  File \"/Users/woottonjames/My Drive/Repos/qiskit-device-benchmarking/.venv/lib/python3.12/site-packages/qiskit_experiments/curve_analysis/curve_analysis.py\", line 630, in _run_analysis\n",
      "    fit_data = self._run_curve_fit(formatted_subset)\n",
      "               ^^^^^^^^^^^^^^^^^^^^^^^^^^^^^^^^^^^^^\n",
      "  File \"/Users/woottonjames/My Drive/Repos/qiskit-device-benchmarking/.venv/lib/python3.12/site-packages/qiskit_experiments/curve_analysis/curve_analysis.py\", line 447, in _run_curve_fit\n",
      "    fit_options = self._generate_fit_guesses(default_fit_opt, curve_data)\n",
      "                  ^^^^^^^^^^^^^^^^^^^^^^^^^^^^^^^^^^^^^^^^^^^^^^^^^^^^^^^\n",
      "  File \"/Users/woottonjames/My Drive/Repos/qiskit-device-benchmarking/qiskit_device_benchmarking/bench_code/mrb/mirror_rb_analysis.py\", line 174, in _generate_fit_guesses\n",
      "    a_guess = (curve_data.y[0] - b_guess) / (alpha_mirror ** curve_data.x[0])\n",
      "               ~~~~~~~~~~~~^^^\n",
      "IndexError: index 0 is out of bounds for axis 0 with size 0\n",
      "\n"
     ]
    }
   ],
   "source": [
    "from qiskit_device_benchmarking.bench_code.mrb import MirrorRB\n",
    "\n",
    "n = 8\n",
    "backend = NoisyStimBackend(\n",
    "    num_qubits=n,\n",
    "    basis_gates = [\"id\", \"h\", \"x\", \"y\", \"z\", \"s\", \"cx\"],\n",
    "    p1=p,\n",
    "    p2=p,\n",
    "    pm=p\n",
    ")\n",
    "\n",
    "# number of shots per circuit\n",
    "shots = 10000\n",
    "\n",
    "# lengths of different mirror circuits to run\n",
    "lengths = [2]+[4,10,20,50,100]\n",
    "\n",
    "# set up the experiment object\n",
    "exp = MirrorRB(\n",
    "    range(backend.num_qubits),\n",
    "    lengths,\n",
    "    backend=backend,\n",
    "    two_qubit_gate_density=0.25,\n",
    "    num_samples=20,\n",
    "    )\n",
    "exp.set_run_options(\n",
    "    shots=shots\n",
    ")\n",
    "\n",
    "rb_data = exp.run()\n",
    "rb_data.block_for_results()\n"
   ]
  },
  {
   "cell_type": "code",
   "execution_count": 7,
   "id": "d28857a8",
   "metadata": {},
   "outputs": [
    {
     "data": {
      "text/plain": [
       "ExperimentData(MirrorRB, aa8abc92-c1cd-472a-8d9b-4bf982346153, job_ids=['7cd7750e-1c7f-451b-b6a6-0a0f4786a796'], metadata=<4 items>)"
      ]
     },
     "execution_count": 7,
     "metadata": {},
     "output_type": "execute_result"
    }
   ],
   "source": [
    "exp.analysis.set_options(analyzed_quantity='Effective Polarization')\n",
    "analysis = exp.analysis.run(rb_data)\n",
    "analysis.block_for_results()"
   ]
  },
  {
   "cell_type": "code",
   "execution_count": 8,
   "id": "c17f6a03",
   "metadata": {},
   "outputs": [
    {
     "ename": "ExperimentEntryNotFound",
     "evalue": "'Figure index 0 out of range.'",
     "output_type": "error",
     "traceback": [
      "\u001b[31m---------------------------------------------------------------------------\u001b[39m",
      "\u001b[31mExperimentEntryNotFound\u001b[39m                   Traceback (most recent call last)",
      "\u001b[36mCell\u001b[39m\u001b[36m \u001b[39m\u001b[32mIn[8]\u001b[39m\u001b[32m, line 1\u001b[39m\n\u001b[32m----> \u001b[39m\u001b[32m1\u001b[39m \u001b[43manalysis\u001b[49m\u001b[43m.\u001b[49m\u001b[43mfigure\u001b[49m\u001b[43m(\u001b[49m\u001b[32;43m0\u001b[39;49m\u001b[43m)\u001b[49m\n",
      "\u001b[36mFile \u001b[39m\u001b[32m~/My Drive/Repos/qiskit-device-benchmarking/.venv/lib/python3.12/site-packages/qiskit_experiments/framework/experiment_data.py:1423\u001b[39m, in \u001b[36mExperimentData.figure\u001b[39m\u001b[34m(self, figure_key, file_name)\u001b[39m\n\u001b[32m   1404\u001b[39m \u001b[38;5;28;01mdef\u001b[39;00m\u001b[38;5;250m \u001b[39m\u001b[34mfigure\u001b[39m(\n\u001b[32m   1405\u001b[39m     \u001b[38;5;28mself\u001b[39m,\n\u001b[32m   1406\u001b[39m     figure_key: Union[\u001b[38;5;28mstr\u001b[39m, \u001b[38;5;28mint\u001b[39m],\n\u001b[32m   1407\u001b[39m     file_name: Optional[\u001b[38;5;28mstr\u001b[39m] = \u001b[38;5;28;01mNone\u001b[39;00m,\n\u001b[32m   1408\u001b[39m ) -> Union[\u001b[38;5;28mint\u001b[39m, FigureData]:\n\u001b[32m   1409\u001b[39m \u001b[38;5;250m    \u001b[39m\u001b[33;03m\"\"\"Retrieve the specified experiment figure.\u001b[39;00m\n\u001b[32m   1410\u001b[39m \n\u001b[32m   1411\u001b[39m \u001b[33;03m    Args:\u001b[39;00m\n\u001b[32m   (...)\u001b[39m\u001b[32m   1421\u001b[39m \u001b[33;03m        ExperimentEntryNotFound: If the figure cannot be found.\u001b[39;00m\n\u001b[32m   1422\u001b[39m \u001b[33;03m    \"\"\"\u001b[39;00m\n\u001b[32m-> \u001b[39m\u001b[32m1423\u001b[39m     figure_key = \u001b[38;5;28;43mself\u001b[39;49m\u001b[43m.\u001b[49m\u001b[43m_find_figure_key\u001b[49m\u001b[43m(\u001b[49m\u001b[43mfigure_key\u001b[49m\u001b[43m)\u001b[49m\n\u001b[32m   1425\u001b[39m     figure_data = \u001b[38;5;28mself\u001b[39m._figures.get(figure_key, \u001b[38;5;28;01mNone\u001b[39;00m)\n\u001b[32m   1426\u001b[39m     \u001b[38;5;28;01mif\u001b[39;00m figure_data \u001b[38;5;129;01mis\u001b[39;00m \u001b[38;5;28;01mNone\u001b[39;00m \u001b[38;5;129;01mand\u001b[39;00m \u001b[38;5;28mself\u001b[39m._infer_service(warn=\u001b[38;5;28;01mFalse\u001b[39;00m):\n",
      "\u001b[36mFile \u001b[39m\u001b[32m~/My Drive/Repos/qiskit-device-benchmarking/.venv/lib/python3.12/site-packages/qiskit_experiments/framework/experiment_data.py:1391\u001b[39m, in \u001b[36mExperimentData._find_figure_key\u001b[39m\u001b[34m(self, figure_key)\u001b[39m\n\u001b[32m   1389\u001b[39m \u001b[38;5;28;01mif\u001b[39;00m \u001b[38;5;28misinstance\u001b[39m(figure_key, \u001b[38;5;28mint\u001b[39m):\n\u001b[32m   1390\u001b[39m     \u001b[38;5;28;01mif\u001b[39;00m figure_key < \u001b[32m0\u001b[39m \u001b[38;5;129;01mor\u001b[39;00m figure_key >= \u001b[38;5;28mlen\u001b[39m(\u001b[38;5;28mself\u001b[39m._figures):\n\u001b[32m-> \u001b[39m\u001b[32m1391\u001b[39m         \u001b[38;5;28;01mraise\u001b[39;00m ExperimentEntryNotFound(\u001b[33mf\u001b[39m\u001b[33m\"\u001b[39m\u001b[33mFigure index \u001b[39m\u001b[38;5;132;01m{\u001b[39;00mfigure_key\u001b[38;5;132;01m}\u001b[39;00m\u001b[33m out of range.\u001b[39m\u001b[33m\"\u001b[39m)\n\u001b[32m   1392\u001b[39m     \u001b[38;5;28;01mreturn\u001b[39;00m \u001b[38;5;28mself\u001b[39m._figures.keys()[figure_key]\n\u001b[32m   1394\u001b[39m \u001b[38;5;66;03m# All figures must have '.svg' in their names when added, as the extension is added to the key\u001b[39;00m\n\u001b[32m   1395\u001b[39m \u001b[38;5;66;03m# name in the `add_figures()` method of this class.\u001b[39;00m\n",
      "\u001b[31mExperimentEntryNotFound\u001b[39m: 'Figure index 0 out of range.'"
     ]
    }
   ],
   "source": [
    "analysis.figure(0)"
   ]
  },
  {
   "cell_type": "code",
   "execution_count": null,
   "id": "87942010",
   "metadata": {},
   "outputs": [],
   "source": []
  }
 ],
 "metadata": {
  "kernelspec": {
   "display_name": ".venv",
   "language": "python",
   "name": "python3"
  },
  "language_info": {
   "codemirror_mode": {
    "name": "ipython",
    "version": 3
   },
   "file_extension": ".py",
   "mimetype": "text/x-python",
   "name": "python",
   "nbconvert_exporter": "python",
   "pygments_lexer": "ipython3",
   "version": "3.12.7"
  }
 },
 "nbformat": 4,
 "nbformat_minor": 5
}
